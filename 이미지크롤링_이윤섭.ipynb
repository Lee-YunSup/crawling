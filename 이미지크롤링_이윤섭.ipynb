{
 "cells": [
  {
   "cell_type": "code",
   "execution_count": null,
   "metadata": {},
   "outputs": [],
   "source": [
    "import urllib.request\n",
    "from bs4 import BeautifulSoup\n",
    "import time"
   ]
  },
  {
   "cell_type": "code",
   "execution_count": null,
   "metadata": {},
   "outputs": [],
   "source": [
    "baseurl = \"https://www.xn--oy2b1b909aca213d.com/buy/sub_list.php?start=\"\n",
    "tailurl = \"&&cd_gubun=1&order=\"\n",
    "\n",
    "list1=[]\n",
    "\n",
    "for i in range(1,49):\n",
    "    url = baseurl+str(i)+tailurl\n",
    "    req = urllib.request.Request(url)\n",
    "    res = urllib.request.urlopen(url).read()\n",
    "\n",
    "    soup = BeautifulSoup(res,'html.parser')\n",
    "    soup = soup.find(\"div\",class_=\"img\")\n",
    "    imgUrl = soup.find(\"img\")[\"src\"]\n",
    "    time.sleep(3)\n",
    "    urllib.request.urlretrieve(imgUrl, f\"car{i}.jpg\")\n",
    "    list1.append(imgUrl)  \n"
   ]
  }
 ],
 "metadata": {
  "kernelspec": {
   "display_name": "pipeline",
   "language": "python",
   "name": "python3"
  },
  "language_info": {
   "name": "python",
   "version": "3.8.16"
  },
  "orig_nbformat": 4,
  "vscode": {
   "interpreter": {
    "hash": "4d04788fc61a3e67e3ef659ab0f7f90da200a30738950f36a1b0ba7dfc4de993"
   }
  }
 },
 "nbformat": 4,
 "nbformat_minor": 2
}
